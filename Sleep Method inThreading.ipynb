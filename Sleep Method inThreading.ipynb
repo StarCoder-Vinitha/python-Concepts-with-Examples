{
 "cells": [
  {
   "cell_type": "code",
   "execution_count": 1,
   "id": "b2dca83e",
   "metadata": {},
   "outputs": [
    {
     "name": "stdout",
     "output_type": "stream",
     "text": [
      "A class\n",
      "B class\n",
      "B classA class\n",
      "\n",
      "B class\n",
      "A class\n",
      "A class\n",
      "B class\n",
      "A classB class\n",
      "\n",
      "A classB class\n",
      "\n",
      "B classA class\n",
      "\n",
      "A classB class\n",
      "\n",
      "A classB class\n",
      "\n",
      "B classA class\n",
      "\n"
     ]
    }
   ],
   "source": [
    "from time import sleep\n",
    "from threading import *\n",
    "class A(Thread):\n",
    "    def run(self):\n",
    "        for i in range(10):\n",
    "            print(\"A class\")\n",
    "            sleep(1)\n",
    "class B(Thread):\n",
    "    def run(self):\n",
    "        for i in range(10):\n",
    "            print(\"B class\")\n",
    "            sleep(1)\n",
    "            \n",
    "a=A()\n",
    "b=B()\n",
    "a.start()\n",
    "b.start()"
   ]
  },
  {
   "cell_type": "code",
   "execution_count": 2,
   "id": "b91eb310",
   "metadata": {},
   "outputs": [
    {
     "name": "stdout",
     "output_type": "stream",
     "text": [
      "A class\n",
      "A class\n",
      "B class\n",
      "A classB class\n",
      "\n",
      "A classB class\n",
      "\n",
      "B classA class\n",
      "\n",
      "B class\n",
      "A class\n",
      "B classA class\n",
      "\n",
      "A classB class\n",
      "\n",
      "A classB class\n",
      "\n",
      "A classB class\n",
      "\n",
      "B class\n"
     ]
    }
   ],
   "source": [
    "from time import sleep\n",
    "from threading import *\n",
    "class A(Thread):\n",
    "    def run(self):\n",
    "        for i in range(10):\n",
    "            print(\"A class\")\n",
    "            sleep(1)\n",
    "class B(Thread):\n",
    "    def run(self):\n",
    "        for i in range(10):\n",
    "            print(\"B class\")\n",
    "            sleep(1)\n",
    "            \n",
    "a=A()\n",
    "b=B()\n",
    "a.start()\n",
    "sleep(1)\n",
    "b.start()"
   ]
  }
 ],
 "metadata": {
  "kernelspec": {
   "display_name": "Python 3 (ipykernel)",
   "language": "python",
   "name": "python3"
  },
  "language_info": {
   "codemirror_mode": {
    "name": "ipython",
    "version": 3
   },
   "file_extension": ".py",
   "mimetype": "text/x-python",
   "name": "python",
   "nbconvert_exporter": "python",
   "pygments_lexer": "ipython3",
   "version": "3.10.1"
  }
 },
 "nbformat": 4,
 "nbformat_minor": 5
}
