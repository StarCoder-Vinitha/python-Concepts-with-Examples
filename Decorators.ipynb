{
 "cells": [
  {
   "cell_type": "markdown",
   "id": "c902f7d3",
   "metadata": {},
   "source": [
    "### Decorators\n",
    "\n",
    "    Decorators are a very powerful and useful tool in Python since it allows programmers to modify the behaviour of function or class. Decorators allow us to wrap another function in order to   extend the behaviour of the wrapped function, without permanently modifying it. "
   ]
  },
  {
   "cell_type": "markdown",
   "id": "967121ab",
   "metadata": {},
   "source": [
    "### Creating Decorator..."
   ]
  },
  {
   "cell_type": "code",
   "execution_count": 21,
   "id": "b75fc5fa",
   "metadata": {},
   "outputs": [
    {
     "data": {
      "text/plain": [
       "10"
      ]
     },
     "execution_count": 21,
     "metadata": {},
     "output_type": "execute_result"
    }
   ],
   "source": [
    "def decor(f): # This is the decorator function\n",
    "    def inner(): # This is the inner function that modifies\n",
    "        value = f()\n",
    "        return value\n",
    "    return inner # return the inner function\n",
    "\n",
    "def num():\n",
    "    return 10\n",
    "num = decor(num)\n",
    "\n",
    "num()"
   ]
  },
  {
   "cell_type": "markdown",
   "id": "5343e566",
   "metadata": {},
   "source": [
    "### Create the decorator that increment the value..."
   ]
  },
  {
   "cell_type": "code",
   "execution_count": 14,
   "id": "bff5a9d7",
   "metadata": {},
   "outputs": [
    {
     "name": "stdout",
     "output_type": "stream",
     "text": [
      "18\n"
     ]
    }
   ],
   "source": [
    "# A decorator that increaments the value of the function by 2\n",
    "def decor(f):     # This is the decorator function\n",
    "    def inner():  # this is the inner function that modifies\n",
    "        value=f()\n",
    "        return value+2\n",
    "    return inner  # return the inner function\n",
    "\n",
    "# Take a function to which decorators should be applied\n",
    "\n",
    "\n",
    "@decor\n",
    "@decor\n",
    "@decor\n",
    "def num(): # Apply decor to the below function\n",
    "    return 12\n",
    "\n",
    "#call num() function and display its result\n",
    "print(num())"
   ]
  },
  {
   "cell_type": "markdown",
   "id": "06952b7d",
   "metadata": {},
   "source": [
    "### Example of decorator..."
   ]
  },
  {
   "cell_type": "code",
   "execution_count": 22,
   "id": "83bb3825",
   "metadata": {},
   "outputs": [
    {
     "data": {
      "text/plain": [
       "['welcome', 'to', 'the', 'python', 'world']"
      ]
     },
     "execution_count": 22,
     "metadata": {},
     "output_type": "execute_result"
    }
   ],
   "source": [
    "# decorator function to convert into lowercase\n",
    "\n",
    "def lowercase_dec(function):\n",
    "    def inner():\n",
    "        func = function()\n",
    "        string_lowercase = func.lower()\n",
    "        return string_lowercase\n",
    "    return inner\n",
    "\n",
    "# decorator function to split words\n",
    "\n",
    "def splitter_dec(function):\n",
    "    def inner():\n",
    "        func = function()\n",
    "        string_split = func.split()\n",
    "        return string_split\n",
    "    return inner\n",
    "\n",
    "@splitter_dec\n",
    "@lowercase_dec\n",
    "\n",
    "def welcome():\n",
    "    return \"welcome to the python world\"\n",
    "welcome()\n"
   ]
  }
 ],
 "metadata": {
  "kernelspec": {
   "display_name": "Python 3 (ipykernel)",
   "language": "python",
   "name": "python3"
  },
  "language_info": {
   "codemirror_mode": {
    "name": "ipython",
    "version": 3
   },
   "file_extension": ".py",
   "mimetype": "text/x-python",
   "name": "python",
   "nbconvert_exporter": "python",
   "pygments_lexer": "ipython3",
   "version": "3.9.9"
  }
 },
 "nbformat": 4,
 "nbformat_minor": 5
}
