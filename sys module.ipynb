{
 "cells": [
  {
   "cell_type": "markdown",
   "id": "f22fd260",
   "metadata": {},
   "source": [
    "#### sys module is used to get the type of exception"
   ]
  },
  {
   "cell_type": "code",
   "execution_count": 2,
   "id": "fb85339a",
   "metadata": {},
   "outputs": [
    {
     "name": "stdout",
     "output_type": "stream",
     "text": [
      "The value of the 2/1 is 2.0\n",
      "========================================\n",
      "The value of the 2/2 is 1.0\n",
      "========================================\n",
      "We cannot able to peform the 2/a. It raise an Error. And, the error is <class 'ValueError'>\n",
      "========================================\n",
      "We cannot able to peform the 2/0. It raise an Error. And, the error is <class 'ZeroDivisionError'>\n",
      "========================================\n",
      "We cannot able to peform the 2/[1, 2, 3]. It raise an Error. And, the error is <class 'TypeError'>\n",
      "========================================\n"
     ]
    }
   ],
   "source": [
    "import sys\n",
    "def myfunction(n):  # \n",
    "    example_list=[1,2,'a',0,[1,2,3]]\n",
    "    for i in example_list:\n",
    "        try:\n",
    "            print(\"The value of the {}/{} is {}\".format(n,i,n/int(i)))\n",
    "        except:\n",
    "            print(\"We cannot able to peform the {}/{}. It raise an Error. And, the error is {}\".format(n,i,sys.exc_info()[0]))\n",
    "        print(\"========================================\")\n",
    "\n",
    "myfunction(2)"
   ]
  }
 ],
 "metadata": {
  "kernelspec": {
   "display_name": "Python 3 (ipykernel)",
   "language": "python",
   "name": "python3"
  },
  "language_info": {
   "codemirror_mode": {
    "name": "ipython",
    "version": 3
   },
   "file_extension": ".py",
   "mimetype": "text/x-python",
   "name": "python",
   "nbconvert_exporter": "python",
   "pygments_lexer": "ipython3",
   "version": "3.10.1"
  }
 },
 "nbformat": 4,
 "nbformat_minor": 5
}
