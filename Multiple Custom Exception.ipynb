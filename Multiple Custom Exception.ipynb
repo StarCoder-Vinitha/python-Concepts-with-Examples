{
 "cells": [
  {
   "cell_type": "code",
   "execution_count": 1,
   "id": "0d0c0699",
   "metadata": {},
   "outputs": [],
   "source": [
    "class Error (Exception):\n",
    "    # Base Class for other exceptions\n",
    "    pass"
   ]
  },
  {
   "cell_type": "code",
   "execution_count": 2,
   "id": "f6f196a3",
   "metadata": {},
   "outputs": [],
   "source": [
    "class InputTooSmall(Error):\n",
    "    # Raised when the entered alphabet is smaller than the actual onepass\n",
    "    pass"
   ]
  },
  {
   "cell_type": "code",
   "execution_count": 3,
   "id": "dbf9d8a5",
   "metadata": {},
   "outputs": [],
   "source": [
    "class InputTooLargeError(Error):\n",
    "    # Raised when the entered alphabet is larger than the actual one\n",
    "    pass"
   ]
  },
  {
   "cell_type": "code",
   "execution_count": 4,
   "id": "1c7e590e",
   "metadata": {},
   "outputs": [],
   "source": [
    "# Ourmain program\n",
    "# user guesses an alphabet untill he/she gets it right"
   ]
  },
  {
   "cell_type": "code",
   "execution_count": 5,
   "id": "6e4804d2",
   "metadata": {},
   "outputs": [],
   "source": [
    "class InputTooLargeError(Error):\n",
    "    # Raised when the entered alphabet is larger than the actual one\n",
    "    pass"
   ]
  },
  {
   "cell_type": "code",
   "execution_count": 8,
   "id": "41a7d3ad",
   "metadata": {},
   "outputs": [
    {
     "name": "stdout",
     "output_type": "stream",
     "text": [
      "Enter an alphabet: m\n",
      "Enter an alphabet: n\n"
     ]
    },
    {
     "ename": "NameError",
     "evalue": "name 'InputTooSmallError' is not defined",
     "output_type": "error",
     "traceback": [
      "\u001b[1;31m---------------------------------------------------------------------------\u001b[0m",
      "\u001b[1;31mInputTooLargeError\u001b[0m                        Traceback (most recent call last)",
      "\u001b[1;32m~\\AppData\\Local\\Temp/ipykernel_7388/3812274873.py\u001b[0m in \u001b[0;36m<module>\u001b[1;34m\u001b[0m\n\u001b[0;32m     12\u001b[0m         \u001b[1;32melif\u001b[0m \u001b[0mapb\u001b[0m \u001b[1;33m>\u001b[0m \u001b[0malphabet\u001b[0m\u001b[1;33m:\u001b[0m\u001b[1;33m\u001b[0m\u001b[1;33m\u001b[0m\u001b[0m\n\u001b[1;32m---> 13\u001b[1;33m             \u001b[1;32mraise\u001b[0m \u001b[0mInputTooLargeError\u001b[0m\u001b[1;33m\u001b[0m\u001b[1;33m\u001b[0m\u001b[0m\n\u001b[0m\u001b[0;32m     14\u001b[0m \u001b[1;33m\u001b[0m\u001b[0m\n",
      "\u001b[1;31mInputTooLargeError\u001b[0m: ",
      "\nDuring handling of the above exception, another exception occurred:\n",
      "\u001b[1;31mNameError\u001b[0m                                 Traceback (most recent call last)",
      "\u001b[1;32m~\\AppData\\Local\\Temp/ipykernel_7388/3812274873.py\u001b[0m in \u001b[0;36m<module>\u001b[1;34m\u001b[0m\n\u001b[0;32m     13\u001b[0m             \u001b[1;32mraise\u001b[0m \u001b[0mInputTooLargeError\u001b[0m\u001b[1;33m\u001b[0m\u001b[1;33m\u001b[0m\u001b[0m\n\u001b[0;32m     14\u001b[0m \u001b[1;33m\u001b[0m\u001b[0m\n\u001b[1;32m---> 15\u001b[1;33m     \u001b[1;32mexcept\u001b[0m \u001b[0mInputTooSmallError\u001b[0m\u001b[1;33m:\u001b[0m\u001b[1;33m\u001b[0m\u001b[1;33m\u001b[0m\u001b[0m\n\u001b[0m\u001b[0;32m     16\u001b[0m         \u001b[0mprint\u001b[0m\u001b[1;33m(\u001b[0m\u001b[1;34m\"The entered alphabet is too small, try again!\"\u001b[0m\u001b[1;33m)\u001b[0m\u001b[1;33m\u001b[0m\u001b[1;33m\u001b[0m\u001b[0m\n\u001b[0;32m     17\u001b[0m         \u001b[0mprint\u001b[0m\u001b[1;33m(\u001b[0m\u001b[1;34m''\u001b[0m\u001b[1;33m)\u001b[0m\u001b[1;33m\u001b[0m\u001b[1;33m\u001b[0m\u001b[0m\n",
      "\u001b[1;31mNameError\u001b[0m: name 'InputTooSmallError' is not defined"
     ]
    }
   ],
   "source": [
    "# our main program\n",
    "# user guesses an alphabet until she gets it right\n",
    "\n",
    "# you need to get this alphabet\n",
    "alphabet = 'm'\n",
    "\n",
    "while True:\n",
    "    try:\n",
    "        apb = input(\"Enter an alphabet: \")\n",
    "        if apb < alphabet:\n",
    "            raise InputTooSmallError\n",
    "        elif apb > alphabet:\n",
    "            raise InputTooLargeError\n",
    "\n",
    "    except InputTooSmallError:\n",
    "        print(\"The entered alphabet is too small, try again!\")\n",
    "        print('')\n",
    "    except InputTooLargeError:\n",
    "        print(\"The entered alphabet is too large, try again!\")\n",
    "        print('')"
   ]
  }
 ],
 "metadata": {
  "kernelspec": {
   "display_name": "Python 3 (ipykernel)",
   "language": "python",
   "name": "python3"
  },
  "language_info": {
   "codemirror_mode": {
    "name": "ipython",
    "version": 3
   },
   "file_extension": ".py",
   "mimetype": "text/x-python",
   "name": "python",
   "nbconvert_exporter": "python",
   "pygments_lexer": "ipython3",
   "version": "3.10.1"
  }
 },
 "nbformat": 4,
 "nbformat_minor": 5
}
