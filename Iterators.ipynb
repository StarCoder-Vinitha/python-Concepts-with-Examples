{
 "cells": [
  {
   "cell_type": "markdown",
   "id": "9c90b0eb",
   "metadata": {},
   "source": [
    "### Iterators..."
   ]
  },
  {
   "cell_type": "markdown",
   "id": "e15006d7",
   "metadata": {},
   "source": [
    "    Iterator in python is an object that is used to iterate over iterable objects like lists,           tuples, dicts, and sets. The iterator object is initialized using the iter() method. It uses     the next() method for iteration."
   ]
  },
  {
   "cell_type": "markdown",
   "id": "766c8c4f",
   "metadata": {},
   "source": [
    "#### Examples of Iterator..."
   ]
  },
  {
   "cell_type": "code",
   "execution_count": 9,
   "id": "9ba41329",
   "metadata": {
    "scrolled": true
   },
   "outputs": [
    {
     "name": "stdout",
     "output_type": "stream",
     "text": [
      "apple\n",
      "banana\n",
      "cherry\n"
     ]
    }
   ],
   "source": [
    "mytuple = (\"apple\", \"banana\", \"cherry\")\n",
    "m = iter(mytuple)\n",
    "\n",
    "print(next(m))\n",
    "print(next(m))\n",
    "print(next(m))\n"
   ]
  },
  {
   "cell_type": "code",
   "execution_count": 10,
   "id": "e6090230",
   "metadata": {},
   "outputs": [
    {
     "name": "stdout",
     "output_type": "stream",
     "text": [
      "b\n",
      "a\n",
      "n\n",
      "a\n",
      "n\n",
      "a\n"
     ]
    }
   ],
   "source": [
    "mystr = \"banana\"\n",
    "myit = iter(mystr)\n",
    "\n",
    "print(next(myit))\n",
    "print(next(myit))\n",
    "print(next(myit))\n",
    "print(next(myit))\n",
    "print(next(myit))\n",
    "print(next(myit))"
   ]
  },
  {
   "cell_type": "code",
   "execution_count": 13,
   "id": "c6f3c6f1",
   "metadata": {},
   "outputs": [
    {
     "name": "stdout",
     "output_type": "stream",
     "text": [
      "enter the a value : 4\n",
      "enter the b value : 2\n",
      "2.0\n",
      "else block\n",
      "i am in FINALLY BLOCK\n"
     ]
    }
   ],
   "source": [
    "a=int(input(\"enter the a value : \"))\n",
    "b=int(input(\"enter the b value : \"))\n",
    "try:\n",
    "    print(a/b)\n",
    "except:\n",
    "    print(\"zero division\")\n",
    "    \n",
    "else:\n",
    "    print(\"else block\")\n",
    "    \n",
    "finally:\n",
    "    print(\"i am in FINALLY BLOCK\")"
   ]
  },
  {
   "cell_type": "markdown",
   "id": "d362b307",
   "metadata": {},
   "source": [
    "#### Parallel_nested iterators..."
   ]
  },
  {
   "cell_type": "code",
   "execution_count": 12,
   "id": "29e2e7a9",
   "metadata": {},
   "outputs": [
    {
     "name": "stdout",
     "output_type": "stream",
     "text": [
      "[8, 10, 12]\n",
      "[(1, 7), (1, 8), (1, 9), (2, 7), (2, 8), (2, 9), (3, 7), (3, 8), (3, 9)]\n"
     ]
    }
   ],
   "source": [
    "a = [1, 2, 3]\n",
    "b = [7, 8, 9]\n",
    "print([(x + y) for (x,y) in zip(a,b)])  # parallel iterators\n",
    "print([(x,y) for x in a for y in b])    # nested iterators"
   ]
  }
 ],
 "metadata": {
  "kernelspec": {
   "display_name": "Python 3 (ipykernel)",
   "language": "python",
   "name": "python3"
  },
  "language_info": {
   "codemirror_mode": {
    "name": "ipython",
    "version": 3
   },
   "file_extension": ".py",
   "mimetype": "text/x-python",
   "name": "python",
   "nbconvert_exporter": "python",
   "pygments_lexer": "ipython3",
   "version": "3.9.9"
  }
 },
 "nbformat": 4,
 "nbformat_minor": 5
}
