{
 "cells": [
  {
   "cell_type": "markdown",
   "id": "d3050393",
   "metadata": {},
   "source": [
    "## Exception Handling"
   ]
  },
  {
   "cell_type": "markdown",
   "id": "fcf0825c",
   "metadata": {},
   "source": [
    "    Exception : An unwanted and unexpected event that disturbs the normal flow of the program execution is called \"Exception\"...\n",
    "    Exception Handling : Providing the alternative way of the smooth execution of the program...\n",
    "    If none of the methods or functions or lines are handled the exception, the python interpreter invokes the \"Default Exception Handler\" to prints the corresponding information on the consol..."
   ]
  },
  {
   "cell_type": "markdown",
   "id": "20e2f863",
   "metadata": {},
   "source": [
    "#### Trackback Information:"
   ]
  },
  {
   "cell_type": "markdown",
   "id": "be127d42",
   "metadata": {},
   "source": [
    "    1) The lines at which the Exception raised \n",
    "    2) Exception Name\n",
    "    3) Exception Description"
   ]
  },
  {
   "cell_type": "code",
   "execution_count": 1,
   "id": "9370b46b",
   "metadata": {},
   "outputs": [
    {
     "ename": "ZeroDivisionError",
     "evalue": "division by zero",
     "output_type": "error",
     "traceback": [
      "\u001b[1;31m---------------------------------------------------------------------------\u001b[0m",
      "\u001b[1;31mZeroDivisionError\u001b[0m                         Traceback (most recent call last)",
      "\u001b[1;32m~\\AppData\\Local\\Temp/ipykernel_7608/2530542699.py\u001b[0m in \u001b[0;36m<module>\u001b[1;34m\u001b[0m\n\u001b[0;32m      1\u001b[0m \u001b[1;31m# Program 1\u001b[0m\u001b[1;33m\u001b[0m\u001b[1;33m\u001b[0m\u001b[0m\n\u001b[1;32m----> 2\u001b[1;33m \u001b[0mprint\u001b[0m\u001b[1;33m(\u001b[0m\u001b[1;36m10\u001b[0m\u001b[1;33m/\u001b[0m\u001b[1;36m0\u001b[0m\u001b[1;33m)\u001b[0m \u001b[1;31m# Raising the Zero Division Error\u001b[0m\u001b[1;33m\u001b[0m\u001b[1;33m\u001b[0m\u001b[0m\n\u001b[0m",
      "\u001b[1;31mZeroDivisionError\u001b[0m: division by zero"
     ]
    }
   ],
   "source": [
    "# Program 1\n",
    "print(10/0) # Raising the Zero Division Error"
   ]
  },
  {
   "cell_type": "code",
   "execution_count": 2,
   "id": "a29d0c3e",
   "metadata": {},
   "outputs": [
    {
     "name": "stdout",
     "output_type": "stream",
     "text": [
      "handling the error : Method 1\n",
      "we are not able to divide a number by zero\n",
      "handling the error : Method 2\n",
      "division by zero\n"
     ]
    }
   ],
   "source": [
    "# Program 2\n",
    "# Handling the above error\n",
    "print (\"handling the error : Method 1\")\n",
    "try:\n",
    "    print(10/0)\n",
    "except:\n",
    "    print(\"we are not able to divide a number by zero\")\n",
    "    \n",
    "print(\"handling the error : Method 2\")\n",
    "try:\n",
    "    print(10/0)\n",
    "except ZeroDivisionError as d:\n",
    "    print(d)"
   ]
  },
  {
   "cell_type": "markdown",
   "id": "ceddeee2",
   "metadata": {},
   "source": [
    "     Four blocks are : try, except, else, finally\n",
    "     try : We can write risky code in try block\n",
    "     except : We can handle the error in except block\n",
    "     else : If there is no error then statements inside the else block executes\n",
    "     finally : This block executes always. no matter whether there is an error or not..."
   ]
  },
  {
   "cell_type": "code",
   "execution_count": 3,
   "id": "d8f1fe71",
   "metadata": {},
   "outputs": [
    {
     "name": "stdout",
     "output_type": "stream",
     "text": [
      "division by zero\n",
      "ZeroDivisionError\n",
      "finally\n"
     ]
    }
   ],
   "source": [
    "# Program 3\n",
    "class test():\n",
    "    def science(self):\n",
    "        try:\n",
    "            self.score()\n",
    "        except ZeroDivisionError as z:\n",
    "            print(z)\n",
    "            print(\"ZeroDivisionError\")\n",
    "        else:\n",
    "            print(\"no exception\")\n",
    "        finally:\n",
    "            print(\"finally\")\n",
    "    def score(self):\n",
    "        print(10/0)\n",
    "t = test()\n",
    "t.science()"
   ]
  },
  {
   "cell_type": "code",
   "execution_count": 4,
   "id": "f8a8a89a",
   "metadata": {},
   "outputs": [
    {
     "ename": "SyntaxError",
     "evalue": "default 'except:' must be last (Temp/ipykernel_7608/23376465.py, line 3)",
     "output_type": "error",
     "traceback": [
      "\u001b[1;36m  File \u001b[1;32m\"C:\\Users\\chand\\AppData\\Local\\Temp/ipykernel_7608/23376465.py\"\u001b[1;36m, line \u001b[1;32m3\u001b[0m\n\u001b[1;33m    except:\u001b[0m\n\u001b[1;37m    ^\u001b[0m\n\u001b[1;31mSyntaxError\u001b[0m\u001b[1;31m:\u001b[0m default 'except:' must be last\n"
     ]
    }
   ],
   "source": [
    "try:\n",
    "    print(x)\n",
    "except:\n",
    "    print(\"x is not defined\")\n",
    "except:\n",
    "    print(\"something went wrong...\")"
   ]
  },
  {
   "cell_type": "code",
   "execution_count": 5,
   "id": "c95c1b53",
   "metadata": {},
   "outputs": [
    {
     "name": "stdout",
     "output_type": "stream",
     "text": [
      "x is not defined\n"
     ]
    }
   ],
   "source": [
    "try:\n",
    "    print(x)\n",
    "except NameError:\n",
    "    print(\"x is not defined\")\n",
    "except:\n",
    "    print(\"something went wrong...\")"
   ]
  },
  {
   "cell_type": "code",
   "execution_count": 6,
   "id": "94998e36",
   "metadata": {},
   "outputs": [
    {
     "name": "stdout",
     "output_type": "stream",
     "text": [
      "file is not found\n"
     ]
    }
   ],
   "source": [
    "try:\n",
    "    f = open(\"myfile.txt\")\n",
    "except:\n",
    "    print(\"file is not found\")"
   ]
  },
  {
   "cell_type": "code",
   "execution_count": null,
   "id": "b1528361",
   "metadata": {},
   "outputs": [],
   "source": [
    "# Program 4\n"
   ]
  }
 ],
 "metadata": {
  "kernelspec": {
   "display_name": "Python 3 (ipykernel)",
   "language": "python",
   "name": "python3"
  },
  "language_info": {
   "codemirror_mode": {
    "name": "ipython",
    "version": 3
   },
   "file_extension": ".py",
   "mimetype": "text/x-python",
   "name": "python",
   "nbconvert_exporter": "python",
   "pygments_lexer": "ipython3",
   "version": "3.10.1"
  }
 },
 "nbformat": 4,
 "nbformat_minor": 5
}
