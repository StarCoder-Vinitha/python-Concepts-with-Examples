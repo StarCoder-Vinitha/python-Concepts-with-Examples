{
 "cells": [
  {
   "cell_type": "code",
   "execution_count": 1,
   "id": "fdf9be41",
   "metadata": {},
   "outputs": [
    {
     "name": "stdout",
     "output_type": "stream",
     "text": [
      "10.0\n",
      "There is No error\n",
      "No matter whether error raise or not..., it always executes\n",
      "division by zero\n",
      "No matter whether error raise or not..., it always executes\n"
     ]
    }
   ],
   "source": [
    "def myfunction(num):\n",
    "    try:\n",
    "        print(10/num)   #if num=0 raise error\n",
    "    except Exception as e:\n",
    "        print(e)\n",
    "    else:\n",
    "        print(\"There is No error\")\n",
    "    finally:\n",
    "        print(\"No matter whether error raise or not..., it always executes\")\n",
    "myfunction(1)\n",
    "myfunction(0)"
   ]
  },
  {
   "cell_type": "code",
   "execution_count": 2,
   "id": "c6f87897",
   "metadata": {},
   "outputs": [
    {
     "name": "stdout",
     "output_type": "stream",
     "text": [
      "Enter age of the customer : 20\n",
      "you are eligible to vote\n",
      "its a finally block\n",
      "end of the app\n"
     ]
    }
   ],
   "source": [
    "class TooYoungException(Exception):\n",
    "    pass\n",
    "age = int(input(\"Enter age of the customer : \"))\n",
    "try:\n",
    "    if age < 18:\n",
    "        raise TooYoungException\n",
    "\n",
    "except TooYoungException:\n",
    "    print(\"you are not elibile to vote now\")\n",
    "else:\n",
    "    print(\"you are eligible to vote\")\n",
    "finally:\n",
    "    print(\"its a finally block\")\n",
    "print(\"end of the app\")"
   ]
  }
 ],
 "metadata": {
  "kernelspec": {
   "display_name": "Python 3 (ipykernel)",
   "language": "python",
   "name": "python3"
  },
  "language_info": {
   "codemirror_mode": {
    "name": "ipython",
    "version": 3
   },
   "file_extension": ".py",
   "mimetype": "text/x-python",
   "name": "python",
   "nbconvert_exporter": "python",
   "pygments_lexer": "ipython3",
   "version": "3.10.1"
  }
 },
 "nbformat": 4,
 "nbformat_minor": 5
}
