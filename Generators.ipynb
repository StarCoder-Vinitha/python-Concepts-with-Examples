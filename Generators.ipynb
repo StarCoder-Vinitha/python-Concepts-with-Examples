{
 "cells": [
  {
   "cell_type": "markdown",
   "id": "0d5f5888",
   "metadata": {},
   "source": [
    "### Generators"
   ]
  },
  {
   "cell_type": "markdown",
   "id": "c395ba13",
   "metadata": {},
   "source": [
    "    A generator-function is defined like a normal function, but whenever it needs to generate a        value, it does so with the 'yield' keyword rather than return. If the body of a def contains         yield, the function automatically becomes a generator function."
   ]
  },
  {
   "cell_type": "markdown",
   "id": "b8c821e2",
   "metadata": {},
   "source": [
    "### Creating generator..."
   ]
  },
  {
   "cell_type": "code",
   "execution_count": 2,
   "id": "179f3ab7",
   "metadata": {},
   "outputs": [
    {
     "name": "stdout",
     "output_type": "stream",
     "text": [
      "2 3 4 5 6 7 8 "
     ]
    }
   ],
   "source": [
    "def my_gen(n,m):    # genator name is mygen\n",
    "    while(n<=m):\n",
    "        yield n   #  returning the n value\n",
    "        n+=1      #increasing the n value\n",
    "g=my_gen(2,8)      # fill the generator object with 2 and  8\n",
    "\n",
    "#print(list(g))\n",
    "\n",
    "for i in g:\n",
    "     print(i,end=\" \")"
   ]
  },
  {
   "cell_type": "markdown",
   "id": "a124a1c6",
   "metadata": {},
   "source": [
    "### Examples of generator..."
   ]
  },
  {
   "cell_type": "markdown",
   "id": "d6173346",
   "metadata": {},
   "source": [
    "#### Using Yield keyword."
   ]
  },
  {
   "cell_type": "code",
   "execution_count": 6,
   "id": "56e0875a",
   "metadata": {
    "scrolled": true
   },
   "outputs": [
    {
     "name": "stdout",
     "output_type": "stream",
     "text": [
      "1\n",
      "2\n",
      "3\n"
     ]
    }
   ],
   "source": [
    "def simpleGeneratorFun():\n",
    "    yield 1            \n",
    "    yield 2            \n",
    "    yield 3            \n",
    "   \n",
    " # Driver code to check above generator function\n",
    "    \n",
    "for value in simpleGeneratorFun(): \n",
    "    print(value)"
   ]
  },
  {
   "cell_type": "markdown",
   "id": "d0b1530a",
   "metadata": {},
   "source": [
    "#### Using __next(("
   ]
  },
  {
   "cell_type": "code",
   "execution_count": 9,
   "id": "8b30efaa",
   "metadata": {},
   "outputs": [
    {
     "name": "stdout",
     "output_type": "stream",
     "text": [
      "1\n",
      "2\n",
      "3\n"
     ]
    }
   ],
   "source": [
    "def simpleGeneratorFun():\n",
    "    yield 1\n",
    "    yield 2\n",
    "    yield 3\n",
    "    \n",
    "# x is a generator object\n",
    "x = simpleGeneratorFun()\n",
    "  \n",
    "# Iterating over the generator object using next\n",
    "print(x.__next__()) # In Python 3, __next__()\n",
    "print(x.__next__())\n",
    "print(x.__next__())"
   ]
  },
  {
   "cell_type": "code",
   "execution_count": 3,
   "id": "d447e252",
   "metadata": {},
   "outputs": [
    {
     "name": "stdout",
     "output_type": "stream",
     "text": [
      "[1, 9, 36, 100]\n",
      "<generator object <genexpr> at 0x0495E4C0>\n",
      "1\n",
      "9\n",
      "36\n",
      "100\n"
     ]
    }
   ],
   "source": [
    "my_list = [1, 3, 6, 10]\n",
    "\n",
    "# square each term using list comprehension\n",
    "list_ = [x**2 for x in my_list]\n",
    "\n",
    "# same thing can be done using a generator expression\n",
    "# generator expressions are surrounded by parenthesis ()\n",
    "generator = (x**2 for x in my_list)\n",
    "\n",
    "print(list_)\n",
    "print(generator)\n",
    "print(next(generator))\n",
    "print(next(generator))\n",
    "print(next(generator))\n",
    "print(next(generator))"
   ]
  }
 ],
 "metadata": {
  "kernelspec": {
   "display_name": "Python 3 (ipykernel)",
   "language": "python",
   "name": "python3"
  },
  "language_info": {
   "codemirror_mode": {
    "name": "ipython",
    "version": 3
   },
   "file_extension": ".py",
   "mimetype": "text/x-python",
   "name": "python",
   "nbconvert_exporter": "python",
   "pygments_lexer": "ipython3",
   "version": "3.9.9"
  }
 },
 "nbformat": 4,
 "nbformat_minor": 5
}
