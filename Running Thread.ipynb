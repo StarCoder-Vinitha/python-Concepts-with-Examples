{
 "cells": [
  {
   "cell_type": "code",
   "execution_count": 1,
   "id": "f0ea392e",
   "metadata": {},
   "outputs": [
    {
     "name": "stdout",
     "output_type": "stream",
     "text": [
      "A class\n",
      "A class\n",
      "A class\n",
      "A class\n",
      "A class\n",
      "B class\n",
      "B class\n",
      "B class\n",
      "B class\n",
      "B class\n"
     ]
    }
   ],
   "source": [
    "class A:\n",
    "    def run(self):\n",
    "        for i in range(5):\n",
    "            print(\"A class\")\n",
    "class B:\n",
    "    def run(self):\n",
    "        for i in range(5):\n",
    "            print(\"B class\")\n",
    "a=A()\n",
    "b=B()\n",
    "a.run()\n",
    "b.run()"
   ]
  },
  {
   "cell_type": "code",
   "execution_count": 2,
   "id": "4ed034cc",
   "metadata": {},
   "outputs": [
    {
     "name": "stdout",
     "output_type": "stream",
     "text": [
      "A class\n",
      "A class\n",
      "A class\n",
      "A class\n",
      "A class\n",
      "B class\n",
      "B class\n",
      "B class\n",
      "B class\n",
      "B class\n"
     ]
    }
   ],
   "source": [
    "from threading import *\n",
    "class A(Thread):\n",
    "    def run(self):\n",
    "        for i in range(5):\n",
    "            print(\"A class\")\n",
    "class B(Thread):\n",
    "    def run(self):\n",
    "        for i in range(5):\n",
    "            print(\"B class\")\n",
    "            \n",
    "a=A()\n",
    "b=B()\n",
    "a.run()\n",
    "b.run()"
   ]
  }
 ],
 "metadata": {
  "kernelspec": {
   "display_name": "Python 3 (ipykernel)",
   "language": "python",
   "name": "python3"
  },
  "language_info": {
   "codemirror_mode": {
    "name": "ipython",
    "version": 3
   },
   "file_extension": ".py",
   "mimetype": "text/x-python",
   "name": "python",
   "nbconvert_exporter": "python",
   "pygments_lexer": "ipython3",
   "version": "3.10.1"
  }
 },
 "nbformat": 4,
 "nbformat_minor": 5
}
