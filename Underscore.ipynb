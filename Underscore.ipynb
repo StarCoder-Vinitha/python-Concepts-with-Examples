{
 "cells": [
  {
   "cell_type": "markdown",
   "id": "95ae4da6",
   "metadata": {},
   "source": [
    "### Underscore() in Python.."
   ]
  },
  {
   "cell_type": "markdown",
   "id": "2a6c204a",
   "metadata": {},
   "source": [
    "     There are two types in Undescore()\n",
    "     1) Single Underscore(_)\n",
    "         * In Interpreter\n",
    "         * After a name\n",
    "         * Before a name\n",
    "     2) Double Underscore(__)\n",
    "         * __leading_double_underscore\n",
    "         * __before_after__"
   ]
  },
  {
   "cell_type": "markdown",
   "id": "09e3af9a",
   "metadata": {},
   "source": [
    "### After a name.."
   ]
  },
  {
   "cell_type": "code",
   "execution_count": null,
   "id": "16f5905a",
   "metadata": {},
   "outputs": [],
   "source": [
    "class MyClass():\n",
    "     def __init__(self):\n",
    "        print (\"OWK\")\n",
    "  \n",
    " def my_defination(var1 = 1, class_ = MyClass):\n",
    "    print (var1)\n",
    "    print (class_)\n",
    "    \n",
    "    my_defination()\n",
    "1\n",
    "__main__.MyClass\n"
   ]
  },
  {
   "cell_type": "markdown",
   "id": "eec5fe9c",
   "metadata": {},
   "source": [
    "### Before a Name.."
   ]
  },
  {
   "cell_type": "code",
   "execution_count": null,
   "id": "fbbaf3e9",
   "metadata": {},
   "outputs": [],
   "source": [
    "class Prefix:\n",
    "     def __init__(self):\n",
    "             self.public = 10\n",
    "             self._private = 12\n",
    "test = Prefix()\n",
    "test.public\n",
    "10\n",
    " test._private\n",
    "12"
   ]
  },
  {
   "cell_type": "markdown",
   "id": "158197ed",
   "metadata": {},
   "source": [
    "### Separating the digits of numbers.."
   ]
  },
  {
   "cell_type": "markdown",
   "id": "76216ff7",
   "metadata": {},
   "source": [
    "    If you have a long digit number, You can separate the group of digits as you like for better understanding.. "
   ]
  },
  {
   "cell_type": "code",
   "execution_count": null,
   "id": "2381a5ab",
   "metadata": {},
   "outputs": [],
   "source": [
    "a = 1_000_000_000\n",
    "print(a)\n",
    "b = 3_877_134_356\n",
    "print(b)\n",
    "c = 12_34_56_78\n",
    "print(c)"
   ]
  },
  {
   "cell_type": "code",
   "execution_count": null,
   "id": "91ab8d67",
   "metadata": {},
   "outputs": [],
   "source": [
    "# You can also use underscore(_) to separate the binary,octal,or hex parts of numbers.\n",
    "\n",
    "binary = 0b_0010\n",
    "octa = 0o_64\n",
    "hexa = 0x_23_ab\n",
    "\n",
    "print(binary)\n",
    "print(octa)\n",
    "print(hexa)"
   ]
  },
  {
   "cell_type": "code",
   "execution_count": null,
   "id": "1ec62e98",
   "metadata": {},
   "outputs": [],
   "source": [
    "def_ = 123\n",
    "prinnt(def_)"
   ]
  },
  {
   "cell_type": "code",
   "execution_count": null,
   "id": "466a9061",
   "metadata": {},
   "outputs": [],
   "source": [
    "class A:\n",
    "    def f(self):\n",
    "        self.__x = 10\n",
    "a = A()\n",
    "a.f()\n",
    "print(a.__x) # error"
   ]
  },
  {
   "cell_type": "markdown",
   "id": "803ff584",
   "metadata": {},
   "source": [
    "### Use in Interpreter.."
   ]
  },
  {
   "cell_type": "code",
   "execution_count": null,
   "id": "81a88185",
   "metadata": {},
   "outputs": [],
   "source": [
    "a = 124\n",
    "_ # It gives the previous result, and you can also asssign it to the another variable\n",
    "b = +2\n",
    "b\n",
    "_"
   ]
  },
  {
   "cell_type": "code",
   "execution_count": null,
   "id": "a077d461",
   "metadata": {},
   "outputs": [],
   "source": [
    "b = 456\n",
    "_"
   ]
  },
  {
   "cell_type": "code",
   "execution_count": null,
   "id": "8b5822e1",
   "metadata": {},
   "outputs": [],
   "source": [
    "c = 7887"
   ]
  },
  {
   "cell_type": "code",
   "execution_count": null,
   "id": "9ccf6e21",
   "metadata": {},
   "outputs": [],
   "source": [
    "a = 668\n",
    "_"
   ]
  },
  {
   "cell_type": "markdown",
   "id": "2ca53ca3",
   "metadata": {},
   "source": [
    "### Ignoring Values.."
   ]
  },
  {
   "cell_type": "markdown",
   "id": "9e7e99f8",
   "metadata": {},
   "source": [
    "    Undescore() is also used to ignore the values if you don't want to use specific values white unpacking, just assign that value to underscore()."
   ]
  },
  {
   "cell_type": "markdown",
   "id": "51607b41",
   "metadata": {},
   "source": [
    "     Ignore means assigning the values to special variable underscore().we are assigning the values to underscore() given   not using that in future code."
   ]
  },
  {
   "cell_type": "code",
   "execution_count": null,
   "id": "86778953",
   "metadata": {},
   "outputs": [],
   "source": [
    "# Ignoring a value \n",
    "a, _, b = 1, 2, 3\n",
    "print(\"1)\",a,b)\n",
    "\n",
    "# Ignoring Multiple Values\n",
    "# *(variable) used to assign multiple value to a variable as list while unpacking.\n",
    "# It is called \"Extended Unpacking\", only available in python 3.x\n",
    "a, *_, b = (2,4,5,6,7,8)\n",
    "print(\"2) \", a,b)"
   ]
  },
  {
   "cell_type": "markdown",
   "id": "db2f6760",
   "metadata": {},
   "source": [
    "### Use in Looping.."
   ]
  },
  {
   "cell_type": "markdown",
   "id": "bcc8c69a",
   "metadata": {},
   "source": [
    "     We can use underscore as a variable in loops."
   ]
  },
  {
   "cell_type": "code",
   "execution_count": null,
   "id": "65bbf443",
   "metadata": {},
   "outputs": [],
   "source": [
    "# for loop\n",
    "print(\"for loop by using underscore as a variable\")\n",
    "for _ in range(5):\n",
    "    print(_)\n",
    "print(\"while loop by using underscore as a variable\")\n",
    "\n",
    "while(_<5):\n",
    "    print(_)\n",
    "    #_ + 1 = 1\n",
    "print(\"other example :\")\n",
    "for _ in [\"hi\", \"hello\", \"how are you ?\"]:\n",
    "    print(_)"
   ]
  },
  {
   "cell_type": "code",
   "execution_count": null,
   "id": "a5b8928a",
   "metadata": {},
   "outputs": [],
   "source": []
  }
 ],
 "metadata": {
  "kernelspec": {
   "display_name": "Python 3 (ipykernel)",
   "language": "python",
   "name": "python3"
  },
  "language_info": {
   "codemirror_mode": {
    "name": "ipython",
    "version": 3
   },
   "file_extension": ".py",
   "mimetype": "text/x-python",
   "name": "python",
   "nbconvert_exporter": "python",
   "pygments_lexer": "ipython3",
   "version": "3.9.9"
  }
 },
 "nbformat": 4,
 "nbformat_minor": 5
}
