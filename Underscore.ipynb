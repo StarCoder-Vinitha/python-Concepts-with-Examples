{
 "cells": [
  {
   "cell_type": "markdown",
   "id": "669dc811",
   "metadata": {},
   "source": [
    "### Underscore() in Python.."
   ]
  },
  {
   "cell_type": "markdown",
   "id": "0fdba0da",
   "metadata": {},
   "source": [
    "     There are two types in Undescore()\n",
    "     1) Single Underscore(_)\n",
    "         * In Interpreter\n",
    "         * After a name\n",
    "         * Before a name\n",
    "     2) Double Underscore(__)\n",
    "         * __leading_double_underscore\n",
    "         * __before_after__"
   ]
  },
  {
   "cell_type": "markdown",
   "id": "9dc499d8",
   "metadata": {},
   "source": [
    "### After a name.."
   ]
  },
  {
   "cell_type": "code",
   "execution_count": null,
   "id": "373da79e",
   "metadata": {},
   "outputs": [],
   "source": [
    "class MyClass():\n",
    "     def __init__(self):\n",
    "        print (\"OWK\")\n",
    "  \n",
    " def my_defination(var1 = 1, class_ = MyClass):\n",
    "    print (var1)\n",
    "    print (class_)\n",
    "    \n",
    "    my_defination()\n",
    "1\n",
    "__main__.MyClass\n"
   ]
  },
  {
   "cell_type": "markdown",
   "id": "240c4f15",
   "metadata": {},
   "source": [
    "### Before a Name.."
   ]
  },
  {
   "cell_type": "code",
   "execution_count": null,
   "id": "2a8c5f23",
   "metadata": {},
   "outputs": [],
   "source": [
    "class Prefix:\n",
    "     def __init__(self):\n",
    "             self.public = 10\n",
    "             self._private = 12\n",
    "test = Prefix()\n",
    "test.public\n",
    "10\n",
    " test._private\n",
    "12"
   ]
  },
  {
   "cell_type": "markdown",
   "id": "6132e5fe",
   "metadata": {},
   "source": [
    "### Separating the digits of numbers.."
   ]
  },
  {
   "cell_type": "markdown",
   "id": "33ee5395",
   "metadata": {},
   "source": [
    "    If you have a long digit number, You can separate the group of digits as you like for better understanding.. "
   ]
  },
  {
   "cell_type": "code",
   "execution_count": null,
   "id": "1cc34b08",
   "metadata": {},
   "outputs": [],
   "source": [
    "a = 1_000_000_000\n",
    "print(a)\n",
    "b = 3_877_134_356\n",
    "print(b)\n",
    "c = 12_34_56_78\n",
    "print(c)"
   ]
  },
  {
   "cell_type": "code",
   "execution_count": null,
   "id": "6dcd8e79",
   "metadata": {},
   "outputs": [],
   "source": [
    "# You can also use underscore(_) to separate the binary,octal,or hex parts of numbers.\n",
    "\n",
    "binary = 0b_0010\n",
    "octa = 0o_64\n",
    "hexa = 0x_23_ab\n",
    "\n",
    "print(binary)\n",
    "print(octa)\n",
    "print(hexa)"
   ]
  },
  {
   "cell_type": "code",
   "execution_count": null,
   "id": "0749edf7",
   "metadata": {},
   "outputs": [],
   "source": [
    "def_ = 123\n",
    "prinnt(def_)"
   ]
  },
  {
   "cell_type": "code",
   "execution_count": null,
   "id": "a11f923d",
   "metadata": {},
   "outputs": [],
   "source": [
    "class A:\n",
    "    def f(self):\n",
    "        self.__x = 10\n",
    "a = A()\n",
    "a.f()\n",
    "print(a.__x) # error"
   ]
  },
  {
   "cell_type": "markdown",
   "id": "90c06b1a",
   "metadata": {},
   "source": [
    "### Use in Interpreter.."
   ]
  },
  {
   "cell_type": "code",
   "execution_count": null,
   "id": "521e9324",
   "metadata": {},
   "outputs": [],
   "source": [
    "a = 124\n",
    "_ # It gives the previous result, and you can also asssign it to the another variable\n",
    "b = +2\n",
    "b\n",
    "_"
   ]
  },
  {
   "cell_type": "code",
   "execution_count": null,
   "id": "8090d8df",
   "metadata": {},
   "outputs": [],
   "source": [
    "b = 456\n",
    "_"
   ]
  },
  {
   "cell_type": "code",
   "execution_count": null,
   "id": "83f1fa17",
   "metadata": {},
   "outputs": [],
   "source": [
    "c = 7887"
   ]
  },
  {
   "cell_type": "code",
   "execution_count": null,
   "id": "2293a3bf",
   "metadata": {},
   "outputs": [],
   "source": [
    "a = 668\n",
    "_"
   ]
  },
  {
   "cell_type": "markdown",
   "id": "3d06e7b2",
   "metadata": {},
   "source": [
    "### Ignoring Values.."
   ]
  },
  {
   "cell_type": "markdown",
   "id": "8bc65198",
   "metadata": {},
   "source": [
    "    Undescore() is also used to ignore the values if you don't want to use specific values white unpacking, just assign that value to underscore()."
   ]
  },
  {
   "cell_type": "markdown",
   "id": "979c5be1",
   "metadata": {},
   "source": [
    "     Ignore means assigning the values to special variable underscore().we are assigning the values to underscore() given   not using that in future code."
   ]
  },
  {
   "cell_type": "code",
   "execution_count": null,
   "id": "347b958f",
   "metadata": {},
   "outputs": [],
   "source": [
    "# Ignoring a value \n",
    "a, _, b = 1, 2, 3\n",
    "print(\"1)\",a,b)\n",
    "\n",
    "# Ignoring Multiple Values\n",
    "# *(variable) used to assign multiple value to a variable as list while unpacking.\n",
    "# It is called \"Extended Unpacking\", only available in python 3.x\n",
    "a, *_, b = (2,4,5,6,7,8)\n",
    "print(\"2) \", a,b)"
   ]
  },
  {
   "cell_type": "markdown",
   "id": "851bdb55",
   "metadata": {},
   "source": [
    "### Use in Looping.."
   ]
  },
  {
   "cell_type": "markdown",
   "id": "9c303d22",
   "metadata": {},
   "source": [
    "     We can use underscore as a variable in loops."
   ]
  },
  {
   "cell_type": "code",
   "execution_count": null,
   "id": "90170920",
   "metadata": {},
   "outputs": [],
   "source": [
    "# for loop\n",
    "print(\"for loop by using underscore as a variable\")\n",
    "for _ in range(5):\n",
    "    print(_)\n",
    "print(\"while loop by using underscore as a variable\")\n",
    "\n",
    "while(_<5):\n",
    "    print(_)\n",
    "    #_ + 1 = 1\n",
    "print(\"other example :\")\n",
    "for _ in [\"hi\", \"hello\", \"how are you ?\"]:\n",
    "    print(_)"
   ]
  },
  {
   "cell_type": "code",
   "execution_count": null,
   "id": "15dd1047",
   "metadata": {},
   "outputs": [],
   "source": []
  }
 ],
 "metadata": {
  "kernelspec": {
   "display_name": "Python 3 (ipykernel)",
   "language": "python",
   "name": "python3"
  },
  "language_info": {
   "codemirror_mode": {
    "name": "ipython",
    "version": 3
   },
   "file_extension": ".py",
   "mimetype": "text/x-python",
   "name": "python",
   "nbconvert_exporter": "python",
   "pygments_lexer": "ipython3",
   "version": "3.9.9"
  }
 },
 "nbformat": 4,
 "nbformat_minor": 5
}
